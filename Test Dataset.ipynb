{
 "cells": [
  {
   "cell_type": "markdown",
   "metadata": {},
   "source": [
    "# Test dataset"
   ]
  },
  {
   "cell_type": "code",
   "execution_count": 2,
   "metadata": {},
   "outputs": [],
   "source": [
    "import numpy as np\n",
    "import pandas as pd"
   ]
  },
  {
   "cell_type": "code",
   "execution_count": 3,
   "metadata": {},
   "outputs": [],
   "source": [
    "X = np.array([[0, 0, 1],\n",
    "             [1, 1, 1],\n",
    "             [1, 0, 1],\n",
    "             [0, 1, 1]])"
   ]
  },
  {
   "cell_type": "code",
   "execution_count": 4,
   "metadata": {},
   "outputs": [
    {
     "data": {
      "text/plain": [
       "(4,)"
      ]
     },
     "execution_count": 4,
     "metadata": {},
     "output_type": "execute_result"
    }
   ],
   "source": [
    "Y = np.array([0, 1, 1, 0]).T\n",
    "\n",
    "Y.shape"
   ]
  },
  {
   "cell_type": "code",
   "execution_count": 5,
   "metadata": {},
   "outputs": [],
   "source": [
    "hiddenL_1 = np.zeros((3, 1))\n",
    "\n",
    "hiddenL_2 = np.zeros((2, 1))"
   ]
  },
  {
   "cell_type": "code",
   "execution_count": null,
   "metadata": {},
   "outputs": [],
   "source": [
    "#Total Layers =  input_l + hidden_layers + output_l\n",
    "\n",
    "total_l = []\n",
    "total_l.append(X.shape[1])\n",
    "total_l.append(len(hiddenL_1))\n",
    "total_l.append(len(hiddenL_2))\n",
    "total_l.append(Y.shape[0])"
   ]
  },
  {
   "cell_type": "code",
   "execution_count": null,
   "metadata": {},
   "outputs": [],
   "source": [
    "def feed_forward(thetas, X):\n",
    "    \n",
    "    \"\"\"\n",
    "    Returns the all activations of all neurons of a layer.\n",
    "    \n",
    "    activations:\n",
    "        array: Keep the activation given the sigmoid function. (vector)\n",
    "    Bias:\n",
    "        Bias added to our activations. (vector)\n",
    "    thetas: \n",
    "        Weight of each connection. (Matrix)\n",
    "    \n",
    "    \"\"\"\n",
    "    \n",
    "    activations = []\n",
    "    activations.append(X)                     # Input Neurons (layer 0)\n",
    "    bias = np.ones(len(X)).reshape(len(X), 1) # Bias added (vector of ones) \n",
    "    \n",
    "    for i in range (len(thetas)):\n",
    "        \n",
    "        print('A:',activations[i])            # Actual activation \n",
    "        print('Thetas',thetas[i])             # Actual Theta\n",
    "        print('Shape',thetas[i].shape)        # Shape of the actual theta\n",
    "        \n",
    "                                   \n",
    "        activations.append(sigmoid(np.dot(activations[i], thetas[i].T) + bias))\n",
    "        \n",
    "        print('Current Activation: \\n' , activations[i + 1], '\\n')\n",
    "        print('\\t --------------------------------------------------------------------- \\n')\n",
    "    \n",
    "    return activations"
   ]
  }
 ],
 "metadata": {
  "kernelspec": {
   "display_name": "Python 3",
   "language": "python",
   "name": "python3"
  },
  "language_info": {
   "codemirror_mode": {
    "name": "ipython",
    "version": 3
   },
   "file_extension": ".py",
   "mimetype": "text/x-python",
   "name": "python",
   "nbconvert_exporter": "python",
   "pygments_lexer": "ipython3",
   "version": "3.7.1"
  }
 },
 "nbformat": 4,
 "nbformat_minor": 4
}
